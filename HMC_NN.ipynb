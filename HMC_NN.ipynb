{
 "cells": [
  {
   "cell_type": "markdown",
   "metadata": {},
   "source": [
    "The purpose of this tutorial is to given an introductory on the subject of Hamiltonian Monte Carlo and deep neural networks. We will begin this tutorial by going through the basics concepts from mechanics and propability theory, which are required for understanding the subject. \n",
    "\n",
    "#### 1. Classical mechanics\n",
    "In classical or Newtonian mechanics, the elementary relation between an object and an exerted force is descriobed by the Newton's 2nd law: \n",
    "\n",
    "$$F=ma,$$\n",
    "\n",
    "which relates the force $F$ exerted on an object with mass $m$ and acceleration $a$. Force is measured in the units of Newton's (N) and 1 Newton can be interpreted in the following way: \"One Newton, is the force required for causing an acceleration of $1 \\frac{m}{s^2}$ on an object with mass of 1 kg\". To give an example, say we have an object with mass 10 kg and we wish to cause acceleration of $5\\frac{m}{s^2}$ on the object. We thus need to apply the force:\n",
    "\n",
    "$$F = 10\\cdot 5 \\;\\frac{kg\\cdot m}{s^2} = 50 N,$$\n",
    "\n",
    "on the object. So far, we have been talking about a single object or a particle, but what about when we have a system of particles or objects? How can we model the dynamics of a system of particles? Well, we simply sum up all the forces exerted on the system (by system I mean all the particles) and so the dynamics of group of particles is defined by the equation: \n",
    "\n",
    "$$\\sum_{i=1}^n F_i = \\sum_{i=1}^n m_i a_i.$$\n",
    "\n",
    "This equation includes both the internal and external forces on the system and constraint forces. Our task now is to use this equation and explain the dynamics of the system. One can quickly agree however, that this is a rather difficult problem: we have a multitude of particles in our hand with many different forces acting on the system. It is not thus easy to explain the dynamics of such a system using Newtonian mechanics. This is where we bring in the Lagrangian and Hamiltonian mechanics, which are equivalent to the Newtonian mechanics in describing the dynamics of the system, but they offer a much easier way to do this. Plus, they give us more information on the dynamics of the system than Newtonian mechanics does. \n",
    "\n",
    "EXAMPLE OF NEWTONIAN MECHANICS: ATWOOD MACHINE\n",
    "\n",
    "To give an example of Newtonian mechanics, we will consider the classical example of the Atwood machine (1784, by George Atwood). The Atwoow machine is a laboratory experiment for verifying the mechanical laws of motion in a constant acceleration case.\n",
    "\n",
    "In a basic Atwood machine example, we consider two objects with masses $m_1$ kg and $m_2$ kg, connected by an inextensible massless string over an ideal massless pulley. In this example, we wish to investigate the acceleration $a$ of the 'object-string-object'-system.\n",
    "\n",
    "First of all, lets find the forces acting on the system. We assume for the sake of simplicity, that the string produces a consant force of $T$ to the two objects. Also, we assume that the acceleration of the system is positive ($a > 0$) when object with mass $m_1$ is falling down and negative $(a < 0)$ if it is rising up. In addition to the string force $T$, the forces acting on the objects are their weights due to gravity, that is: \n",
    "\n",
    "$$W_1 = m_1 g\\;\\;\\;\\;\\;\\;\\;\\;\\; W_2 = m_2 g,$$\n",
    "\n",
    "where $g = 9.8 \\;\\frac{m}{s^2}$ is the acceleration due to gravity. So the total forces acting on the two objects are: \n",
    "\n",
    "$$W_1 - T= m_1 g - T = m_1 a\\;\\;\\;\\;\\;\\;\\;\\;\\; T - W_2= T-m_2 g = m_2 a,$$\n",
    "\n",
    "and if we add these two equations we get: \n",
    "\n",
    "$$m_1 g -T + T-m_2 g = m_1 a + m_2 a,$$\n",
    "\n",
    "from which we easily get that the acceleration of the 'object-string-object'-system is: \n",
    "\n",
    "$$a = g\\frac{m_1-m_2}{m_1+m_2}.$$\n",
    "\n",
    "To make this more concrete with real numbers, let $m_1 = 1.1$ kg and $m_2 = 1$ kg. We thus get that the acceleration of the system is: \n",
    "\n",
    "$$a = 9.8 \\;\\frac{m}{s^2}\\frac{(1.1 - 1) kg}{(1.1 + 1) kg} \\approx 0.048 \\times 9.8 \\frac{m}{s^2} \\approx 0.47 \\frac{m}{s^2}.$$\n",
    "\n",
    "To get a better feeling of Atwood machine, please refer to the simulation by Andrew Duffy: [Atwood machine](http://physics.bu.edu/~duffy/HTML5/Atwoods_machine.html). \n",
    "\n",
    "#### 2. Lagrangian mechanics\n",
    "\n",
    "In mechanics, we are interested in the motion of objects: how fast a car drives, how the earth orbits the sun, the oscillating motion of a pendulum, etc. From a simple applied point of view, Lagrangian mechanics is just a different way to approach a given mechanical problem. Let us take as an example the motion of a pendulum. Our goal is to describe how the pendulum will move.\n",
    "\n",
    "In Newtonian mechanics (the “normal” mechanics taught in high school), we would start by drawing a diagram with multiple arrows for all the forces which are acting on the pendulum. We can then find how the pendulum is moving by using Newton’s second law: F=ma. More generally in Newtonian mechanics, we take Newton’s three laws as fundamental laws of nature and try to derive everything else from there. It is centered around forces, since these are ultimately used to figure out the trajectories.\n",
    "\n",
    "In Lagrangian mechanics, things work differently. To obtain the same result, we start by calculating the kinetic and potential energy of the pendulum. Instead of Newton’s three laws, we assume that there is another fundamental law of nature: the principle of least action. According to this principle, we can calculate the motion by minimizing a certain quantity, called the action, that is related to the two forms of energy mentioned above. Lagrangian mechanics therefore is centered around energies. Forces are no longer needed to determine the motion of objects.\n",
    "\n",
    "Both variants of course lead to the same trajectory for the pendulum. It can be shown more generally that these two formalism are equivalent. However, they each are better suited for certain types of problems.\n",
    "\n",
    "Besides being more convenient to solve some problems, there is a much deeper reason for why it is a good idea to introduce Lagrangian mechanics. It turns out that many of the fundamental laws of physics can be described by such a principle of least action. To give you a taste, here is the so called “Lagrangian” of the standard model (the action we try to minimize in the principle of least action is the integral of this beast):\n",
    "\n",
    "#### 3. Hamiltonian mechanics"
   ]
  },
  {
   "cell_type": "code",
   "execution_count": null,
   "metadata": {},
   "outputs": [],
   "source": []
  }
 ],
 "metadata": {
  "kernelspec": {
   "display_name": "Python 3",
   "language": "python",
   "name": "python3"
  },
  "language_info": {
   "codemirror_mode": {
    "name": "ipython",
    "version": 3
   },
   "file_extension": ".py",
   "mimetype": "text/x-python",
   "name": "python",
   "nbconvert_exporter": "python",
   "pygments_lexer": "ipython3",
   "version": "3.7.3"
  }
 },
 "nbformat": 4,
 "nbformat_minor": 2
}
